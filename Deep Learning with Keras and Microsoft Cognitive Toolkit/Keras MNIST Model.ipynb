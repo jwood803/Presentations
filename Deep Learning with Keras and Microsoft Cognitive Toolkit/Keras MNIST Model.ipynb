{
 "cells": [
  {
   "cell_type": "code",
   "execution_count": 20,
   "metadata": {},
   "outputs": [],
   "source": [
    "from keras.datasets import mnist\n",
    "from keras import models, layers\n",
    "from keras.utils import to_categorical\n",
    "\n",
    "(x_train, y_train), (x_test, y_test) = mnist.load_data()"
   ]
  },
  {
   "cell_type": "code",
   "execution_count": 13,
   "metadata": {},
   "outputs": [
    {
     "name": "stdout",
     "output_type": "stream",
     "text": [
      "Train shape - (60000, 28, 28)\n",
      "Test shape - (10000, 28, 28)\n"
     ]
    }
   ],
   "source": [
    "print(\"Train shape - {}\".format(x_train.shape))\n",
    "print(\"Test shape - {}\".format(x_test.shape))"
   ]
  },
  {
   "cell_type": "code",
   "execution_count": 14,
   "metadata": {},
   "outputs": [],
   "source": [
    "x_train = x_train.reshape((60000, 28*28))\n",
    "x_test = x_test.reshape((10000, 28*28))\n",
    "\n",
    "x_train = x_train.astype(\"float32\") / 255\n",
    "x_test = x_test.astype(\"float32\") / 255"
   ]
  },
  {
   "cell_type": "code",
   "execution_count": 21,
   "metadata": {},
   "outputs": [
    {
     "data": {
      "text/plain": [
       "5"
      ]
     },
     "execution_count": 21,
     "metadata": {},
     "output_type": "execute_result"
    }
   ],
   "source": [
    "y_train[0]"
   ]
  },
  {
   "cell_type": "code",
   "execution_count": 22,
   "metadata": {},
   "outputs": [],
   "source": [
    "y_train = to_categorical(y_train)\n",
    "y_test = to_categorical(y_test)"
   ]
  },
  {
   "cell_type": "code",
   "execution_count": 24,
   "metadata": {},
   "outputs": [
    {
     "data": {
      "text/plain": [
       "array([0., 0., 0., 0., 0., 1., 0., 0., 0., 0.], dtype=float32)"
      ]
     },
     "execution_count": 24,
     "metadata": {},
     "output_type": "execute_result"
    }
   ],
   "source": [
    "y_train[0]"
   ]
  },
  {
   "cell_type": "code",
   "execution_count": 3,
   "metadata": {},
   "outputs": [],
   "source": [
    "model = models.Sequential()\n",
    "model.add(layers.Dense(512, activation=\"relu\", input_shape=(28*28,)))\n",
    "model.add(layers.Dense(10, activation=\"softmax\"))\n",
    "\n",
    "model.compile(optimizer=\"rmsprop\", loss=\"categorical_crossentropy\", metrics=['accuracy'])"
   ]
  },
  {
   "cell_type": "code",
   "execution_count": 8,
   "metadata": {},
   "outputs": [
    {
     "name": "stdout",
     "output_type": "stream",
     "text": [
      "Train on 60000 samples, validate on 10000 samples\n",
      "Epoch 1/8\n",
      "60000/60000 [==============================] - 15s 252us/step - loss: 0.0282 - acc: 0.9919 - val_loss: 0.0693 - val_acc: 0.9782\n",
      "Epoch 2/8\n",
      "60000/60000 [==============================] - 16s 263us/step - loss: 0.0217 - acc: 0.9933 - val_loss: 0.0715 - val_acc: 0.9805\n",
      "Epoch 3/8\n",
      "60000/60000 [==============================] - 16s 260us/step - loss: 0.0169 - acc: 0.9951 - val_loss: 0.0656 - val_acc: 0.9820\n",
      "Epoch 4/8\n",
      "60000/60000 [==============================] - 15s 256us/step - loss: 0.0130 - acc: 0.9961 - val_loss: 0.0729 - val_acc: 0.9797\n",
      "Epoch 5/8\n",
      "60000/60000 [==============================] - 15s 258us/step - loss: 0.0097 - acc: 0.9974 - val_loss: 0.0701 - val_acc: 0.9805\n",
      "Epoch 6/8\n",
      "60000/60000 [==============================] - 16s 262us/step - loss: 0.0081 - acc: 0.9979 - val_loss: 0.0689 - val_acc: 0.9828\n",
      "Epoch 7/8\n",
      "60000/60000 [==============================] - 16s 265us/step - loss: 0.0064 - acc: 0.9982 - val_loss: 0.0785 - val_acc: 0.9810\n",
      "Epoch 8/8\n",
      "60000/60000 [==============================] - 16s 265us/step - loss: 0.0047 - acc: 0.9988 - val_loss: 0.0729 - val_acc: 0.9824\n"
     ]
    }
   ],
   "source": [
    "history = model.fit(x_train, y_train, validation_split=0.2, validation_data=(x_test, y_test), epochs=8, batch_size=128)"
   ]
  },
  {
   "cell_type": "code",
   "execution_count": 19,
   "metadata": {},
   "outputs": [],
   "source": [
    "model.save(\"mnist_model.h5\")"
   ]
  }
 ],
 "metadata": {
  "kernelspec": {
   "display_name": "Python 3",
   "language": "python",
   "name": "python3"
  },
  "language_info": {
   "codemirror_mode": {
    "name": "ipython",
    "version": 3
   },
   "file_extension": ".py",
   "mimetype": "text/x-python",
   "name": "python",
   "nbconvert_exporter": "python",
   "pygments_lexer": "ipython3",
   "version": "3.6.5"
  }
 },
 "nbformat": 4,
 "nbformat_minor": 2
}
