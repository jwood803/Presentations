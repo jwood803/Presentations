{
 "cells": [
  {
   "cell_type": "code",
   "execution_count": 8,
   "metadata": {},
   "outputs": [],
   "source": [
    "import onnxmltools\n",
    "import onnx\n",
    "import keras\n",
    "\n",
    "model = keras.models.load_model(\"mnist_model.h5\")\n",
    "\n",
    "onnx_model = onnxmltools.convert_keras(model)\n",
    "\n",
    "onnx.save_model(onnx_model, \"mnist.onnx\")"
   ]
  }
 ],
 "metadata": {
  "kernelspec": {
   "display_name": "Python 3",
   "language": "python",
   "name": "python3"
  },
  "language_info": {
   "codemirror_mode": {
    "name": "ipython",
    "version": 3
   },
   "file_extension": ".py",
   "mimetype": "text/x-python",
   "name": "python",
   "nbconvert_exporter": "python",
   "pygments_lexer": "ipython3",
   "version": "3.6.4"
  }
 },
 "nbformat": 4,
 "nbformat_minor": 2
}
